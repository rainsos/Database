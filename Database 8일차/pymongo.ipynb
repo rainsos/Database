{
 "cells": [
  {
   "cell_type": "code",
   "execution_count": 17,
   "metadata": {},
   "outputs": [
    {
     "name": "stdout",
     "output_type": "stream",
     "text": [
      "Data inserted successfully\n"
     ]
    }
   ],
   "source": [
    "from pymongo import MongoClient\n",
    "from datetime import datetime\n",
    "\n",
    "def insert_data():\n",
    "    client = MongoClient('mongodb://localhost:27017/')\n",
    "    db = client.local  # 'local' 데이터베이스 사용\n",
    "\n",
    "    # 책 데이터 삽입\n",
    "    books = [\n",
    "        {\"title\": \"Kafka on the Shore\", \"author\": \"Haruki Murakami\", \"year\": 2002},\n",
    "        {\"title\": \"Norwegian Wood\", \"author\": \"Haruki Murakami\", \"year\": 1987},\n",
    "        {\"title\": \"1Q84\", \"author\": \"Haruki Murakami\", \"year\": 2009}\n",
    "    ]\n",
    "    db.books.insert_many(books)\n",
    "\n",
    "    # 영화 데이터 삽입\n",
    "    movies = [\n",
    "        {\"title\": \"Inception\", \"director\": \"Christopher Nolan\", \"year\": 2010, \"rating\": 8.8},\n",
    "        {\"title\": \"Interstellar\", \"director\": \"Christopher Nolan\", \"year\": 2014, \"rating\": 8.6},\n",
    "        {\"title\": \"The Dark Knight\", \"director\": \"Christopher Nolan\", \"year\": 2008, \"rating\": 9.0}\n",
    "    ]\n",
    "    db.movies.insert_many(movies)\n",
    "\n",
    "    # 사용자 행동 데이터 삽입\n",
    "    user_actions = [\n",
    "        {\"user_id\": 1, \"action\": \"click\", \"timestamp\": datetime(2023, 4, 12, 8, 0)},\n",
    "        {\"user_id\": 1, \"action\": \"view\", \"timestamp\": datetime(2023, 4, 12, 9, 0)},\n",
    "        {\"user_id\": 2, \"action\": \"purchase\", \"timestamp\": datetime(2023, 4, 12, 10, 0)},\n",
    "    ]\n",
    "    db.user_actions.insert_many(user_actions)\n",
    "\n",
    "    print(\"Data inserted successfully\")\n",
    "    client.close()\n",
    "\n",
    "if __name__ == \"__main__\":\n",
    "    insert_data()\n",
    "\n",
    "\n",
    " "
   ]
  },
  {
   "cell_type": "code",
   "execution_count": null,
   "metadata": {},
   "outputs": [
    {
     "name": "stdout",
     "output_type": "stream",
     "text": [
      "Genre field added to all books\n"
     ]
    }
   ],
   "source": [
    "from pymongo import MongoClient\n",
    "\n",
    "client = MongoClient('mongodb://localhost:27017/')\n",
    "db = client.local  \n",
    "\n",
    "# 장르 추가\n",
    "db.books.update_many(\n",
    "    {},  \n",
    "    {\"$set\": {\"genre\": \"fantasy\"}}  \n",
    ")\n",
    "\n",
    "print(\"Genre field added to all books\")\n",
    "client.close()\n"
   ]
  },
  {
   "cell_type": "markdown",
   "metadata": {},
   "source": [
    "**[문제 1: 특정 장르의 책 찾기]**\n",
    "\n",
    "- **문제 설명**:\n",
    "데이터베이스에 새로운 필드로 **`genre`**를 책 데이터에 추가하였습니다. 사용자는 \"fantasy\" 장르의 모든 책을 찾고 싶어합니다.\n",
    "- **쿼리 작성 목표**:\n",
    "\"fantasy\" 장르에 해당하는 모든 책의 제목과 저자를 찾는 MongoDB 쿼리를 함수로 만들어 문제를 해결해 봅니다."
   ]
  },
  {
   "cell_type": "code",
   "execution_count": 27,
   "metadata": {},
   "outputs": [
    {
     "name": "stdout",
     "output_type": "stream",
     "text": [
      "{'title': 'Kafka on the Shore', 'author': 'Haruki Murakami'}\n",
      "{'title': 'Norwegian Wood', 'author': 'Haruki Murakami'}\n",
      "{'title': '1Q84', 'author': 'Haruki Murakami'}\n",
      "{'title': 'Kafka on the Shore', 'author': 'Haruki Murakami'}\n",
      "{'title': 'Norwegian Wood', 'author': 'Haruki Murakami'}\n",
      "{'title': '1Q84', 'author': 'Haruki Murakami'}\n",
      "{'title': 'Kafka on the Shore', 'author': 'Haruki Murakami'}\n",
      "{'title': 'Norwegian Wood', 'author': 'Haruki Murakami'}\n",
      "{'title': '1Q84', 'author': 'Haruki Murakami'}\n",
      "{'title': 'Kafka on the Shore', 'author': 'Haruki Murakami'}\n",
      "{'title': 'Norwegian Wood', 'author': 'Haruki Murakami'}\n",
      "{'title': '1Q84', 'author': 'Haruki Murakami'}\n",
      "{'title': 'Kafka on the Shore', 'author': 'Haruki Murakami'}\n",
      "{'title': 'Norwegian Wood', 'author': 'Haruki Murakami'}\n",
      "{'title': '1Q84', 'author': 'Haruki Murakami'}\n",
      "{'title': 'Kafka on the Shore', 'author': 'Haruki Murakami'}\n",
      "{'title': 'Norwegian Wood', 'author': 'Haruki Murakami'}\n",
      "{'title': '1Q84', 'author': 'Haruki Murakami'}\n",
      "{'title': 'Kafka on the Shore', 'author': 'Haruki Murakami'}\n",
      "{'title': 'Norwegian Wood', 'author': 'Haruki Murakami'}\n",
      "{'title': '1Q84', 'author': 'Haruki Murakami'}\n"
     ]
    }
   ],
   "source": [
    "from pymongo import MongoClient\n",
    "\n",
    "client = MongoClient('mongodb://localhost:27017/')\n",
    "db = client.local \n",
    "\n",
    "def find_books_by_genre(db, genre):\n",
    "    query = {\"genre\": genre}\n",
    "    projection = {\"_id\": 0, \"title\": 1, \"author\": 1}\n",
    "    books = db.books.find(query, projection)\n",
    "    for book in books:\n",
    "        print(book)\n",
    "\n",
    "find_books_by_genre(db, 'fantasy')"
   ]
  },
  {
   "cell_type": "markdown",
   "metadata": {},
   "source": [
    "**[문제 2: 감독별 평균 영화 평점 계산]**\n",
    "\n",
    "- **문제 설명**:\n",
    "각 영화 감독별로 그들의 영화 평점의 평균을 계산하고 싶습니다. 이를 통해 어떤 감독이 가장 높은 평균 평점을 가지고 있는지 알아볼 수 있습니다.\n",
    "- **쿼리 작성 목표**: \n",
    "모든 영화 감독의 영화 평점 평균을 계산하고, 평균 평점이 높은 순으로 정렬하는 MongoDB 쿼리를 함수로 만들어 문제를 해결해 봅니다."
   ]
  },
  {
   "cell_type": "code",
   "execution_count": 28,
   "metadata": {},
   "outputs": [
    {
     "name": "stdout",
     "output_type": "stream",
     "text": [
      "Director: Christopher Nolan, Average Rating: 8.8\n"
     ]
    }
   ],
   "source": [
    "def calculate_average_ratings(db):\n",
    "    movies_collection = db.movies\n",
    "    pipeline = [\n",
    "        {\"$group\": {\"_id\": \"$director\", \"average_rating\": {\"$avg\": \"$rating\"}}},\n",
    "              \n",
    "        {\"$sort\": {\"average_rating\": -1}},\n",
    "        \n",
    "        # 결과 포맷 조정 (director, average_rating만 출력)\n",
    "        {\"$project\": {\"_id\": 0, \"director\": \"$_id\", \"average_rating\": 1}}\n",
    "    ]\n",
    "\n",
    "    # Aggregation 실행\n",
    "    results = movies_collection.aggregate(pipeline)\n",
    "    \n",
    "    # 결과 출력\n",
    "    for result in results:\n",
    "        print(f\"Director: {result['director']}, Average Rating: {result['average_rating']}\")\n",
    "\n",
    "# 함수 실행\n",
    "calculate_average_ratings(db)\n"
   ]
  },
  {
   "cell_type": "markdown",
   "metadata": {},
   "source": [
    "**[문제 3: 특정 사용자의 최근 행동 조회]**\n",
    "\n",
    "- **문제 설명**:\n",
    "특정 사용자의 최근 행동 로그를 조회하고자 합니다. 이 때, 최신 순으로 정렬하여 최근 5개의 행동만을 보고 싶습니다.\n",
    "- **쿼리 작성 목표**:\n",
    "사용자 ID가 1인 사용자의 최근 행동 5개를 시간 순으로 정렬하여 조회하는 MongoDB 쿼리를 함수로 만들어 문제를 해결해 봅니다."
   ]
  },
  {
   "cell_type": "code",
   "execution_count": null,
   "metadata": {},
   "outputs": [
    {
     "name": "stdout",
     "output_type": "stream",
     "text": [
      "{'_id': ObjectId('67e4fd0dd7bb0a97b2d1c64c'), 'user_id': 1, 'action': 'view', 'timestamp': datetime.datetime(2023, 4, 12, 9, 0)}\n",
      "{'_id': ObjectId('67e4fcc4d7bb0a97b2d1c641'), 'user_id': 1, 'action': 'view', 'timestamp': datetime.datetime(2023, 4, 12, 9, 0)}\n",
      "{'_id': ObjectId('67e4fd1dd7bb0a97b2d1c660'), 'user_id': 1, 'action': 'view', 'timestamp': datetime.datetime(2023, 4, 12, 9, 0)}\n",
      "{'_id': ObjectId('67e4fd14d7bb0a97b2d1c656'), 'user_id': 1, 'action': 'view', 'timestamp': datetime.datetime(2023, 4, 12, 9, 0)}\n",
      "{'_id': ObjectId('67e4f89c7b82684317fc0bf2'), 'user_id': 1, 'action': 'view', 'timestamp': datetime.datetime(2023, 4, 12, 9, 0)}\n"
     ]
    }
   ],
   "source": [
    "def find_recent_actions_by_user(db, user_id, limit=5):\n",
    "    user_actions_collection = db.user_actions\n",
    "    query = {\"user_id\": user_id}\n",
    "    sort_criteria = {\"timestamp\": -1}  # 최신 순으로 정렬\n",
    "\n",
    "    actions = user_actions_collection.find(query).sort(sort_criteria).limit(limit)\n",
    "    for action in actions:\n",
    "        print(action)\n",
    "\n",
    "# 함수 실행\n",
    "find_recent_actions_by_user(db, 1)"
   ]
  },
  {
   "cell_type": "markdown",
   "metadata": {},
   "source": [
    "**[문제 4: 출판 연도별 책의 수 계산]**\n",
    "\n",
    "- **문제 설명** :\n",
    "데이터베이스에 저장된 책 데이터를 이용하여 각 출판 연도별로 출판된 책의 수를 계산하고자 합니다. 이 데이터는 시간에 따른 출판 트렌드를 분석하는 데 사용될 수 있습니다.\n",
    "- **쿼리 작성 목표** :\n",
    "각 출판 연도별로 출판된 책의 수를 계산하고, 출판된 책의 수가 많은 순서대로 정렬하는 MongoDB 쿼리를 함수로 만들어 문제를 해결해 봅니다."
   ]
  },
  {
   "cell_type": "code",
   "execution_count": 30,
   "metadata": {},
   "outputs": [
    {
     "name": "stdout",
     "output_type": "stream",
     "text": [
      "Year: 2002, Book Count: 7\n",
      "Year: 1987, Book Count: 7\n",
      "Year: 2009, Book Count: 7\n"
     ]
    }
   ],
   "source": [
    "def count_books_by_year(db):\n",
    "    books_collection = db.books\n",
    "    pipeline = [\n",
    "        {\"$group\": {\"_id\": \"$year\", \"count\": {\"$sum\": 1}}},  \n",
    "        {\"$sort\": {\"count\": -1}},  \n",
    "        {\"$project\": {\"_id\": 0, \"year\": \"$_id\", \"count\": 1}}  # 결과 포맷 조정\n",
    "    ]\n",
    "\n",
    "    results = books_collection.aggregate(pipeline)\n",
    "    for result in results:\n",
    "        print(f\"Year: {result['year']}, Book Count: {result['count']}\")\n",
    "\n",
    "# 함수 실행 \n",
    "count_books_by_year(db)\n"
   ]
  },
  {
   "cell_type": "markdown",
   "metadata": {},
   "source": [
    "**[문제 5: 특정 사용자의 행동 유형 업데이트]**\n",
    "\n",
    "- **문제 설명**:\n",
    "특정 사용자의 행동 로그 중, 특정 날짜 이전의 \"view\" 행동을 \"seen\"으로 변경하고 싶습니다. 예를 들어, 사용자 ID가 1인 사용자의 2023년 4월 13일 이전의 모든 \"view\" 행동을 \"seen\"으로 변경하는 작업입니다.\n",
    "- **쿼리 작성 목표**:\n",
    "사용자 ID가 1인 사용자의 2023년 4월 13일 이전의 \"view\" 행동을 \"seen\"으로 변경하는 MongoDB 업데이트 쿼리를 함수로 만들어 문제를 해결해 봅니다."
   ]
  },
  {
   "cell_type": "code",
   "execution_count": 31,
   "metadata": {},
   "outputs": [
    {
     "name": "stdout",
     "output_type": "stream",
     "text": [
      "Updated 7 documents.\n"
     ]
    }
   ],
   "source": [
    "from datetime import datetime\n",
    "\n",
    "def update_user_actions_before_date(db, user_id, date, old_action, new_action):\n",
    "    user_actions_collection = db.user_actions\n",
    "    query = {\"user_id\": user_id, \"action\": old_action, \"timestamp\": {\"$lt\": date}}\n",
    "    update = {\"$set\": {\"action\": new_action}}\n",
    "\n",
    "    result = user_actions_collection.update_many(query, update)\n",
    "    print(f\"Updated {result.modified_count} documents.\")\n",
    "\n",
    "# 함수 실행\n",
    "update_user_actions_before_date(db, 1, datetime(2023, 4, 13), \"view\", \"seen\")"
   ]
  }
 ],
 "metadata": {
  "kernelspec": {
   "display_name": "Python 3",
   "language": "python",
   "name": "python3"
  },
  "language_info": {
   "codemirror_mode": {
    "name": "ipython",
    "version": 3
   },
   "file_extension": ".py",
   "mimetype": "text/x-python",
   "name": "python",
   "nbconvert_exporter": "python",
   "pygments_lexer": "ipython3",
   "version": "3.13.2"
  }
 },
 "nbformat": 4,
 "nbformat_minor": 2
}
